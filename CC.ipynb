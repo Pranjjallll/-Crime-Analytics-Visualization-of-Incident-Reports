# Crime Analytics: Visualization of Incident Reports
In this assignment, I will analyze criminal incident data from Seattle or San Francisco to visualize patterns and, if desired, contrast and compare patterns across the two cities.
import pandas as pd
import numpy as np
import matplotlib.pyplot as plt
import seaborn as sns
%matplotlib inline  
sanfran_db = pd.read_csv('sanfrancisco_incidents_summer_2014.csv',parse_dates = ['Date'])
#seattle_db = pd.read_csv('seattle_incidents_summer_2014.csv')
sanfran_db.shape
sanfran_db.columns
seattle_db.shape
seattle_db.columns
sanfran_db.head(5)
seattle_db.head(5)
seattle_db.columns = ['RMSID', 'OffenseNumber', 'OffenseCode',
       'Extension', 'OffenseType', 'SummaryCode',
       'OffenseDescription', 'DateReported',
       'OccurredDateStart', 'OccurredDateEnd',
       'BlockLocation', 'District', 'Zone',
       'Census2000', 'Longitude', 'Latitude', 'Location', 'Month',
       'Year']
sanfran_missing_count = {}
def count_null(df):
    missing_count = {}
    for col in df.columns:
        missing_count[col]=len(df[df[col].isnull()])
    return missing_count

count_null(seattle_db)
count_null(sanfran_db)
# the date and time of incident are in two separate columns
# combining them into a date_time column
sanfran_db['date_time'] = pd.to_datetime(sanfran_db['Date'] + ' ' + sanfran_db['Time'])
date_idx = pd.DatetimeIndex(sanfran_db['date_time'])
sanfran_db['incident_date'] = date_idx.date.astype('datetime64')
sanfran_db['incident_hour'] = date_idx.hour
sanfran_db['incident_year'] = date_idx.year
sanfran_db['incident_month'] = date_idx.month
sanfran_db['incident_weekday'] = date_idx.weekday

by_year = sanfran_db.pivot_table('IncidntNum', aggfunc='count',
                            index='incident_year',
                            columns='incident_month')
by_year
seattle_db['date_time'] = seattle_db['OccurredDateStart']
date_idx = pd.DatetimeIndex(seattle_db['date_time'])
seattle_db['incident_date'] = date_idx.date.astype('datetime64')
seattle_db['incident_hour'] = date_idx.hour
seattle_db['incident_year'] = date_idx.year
seattle_db['incident_month'] = date_idx.month
seattle_db['incident_weekday'] = date_idx.weekday

by_year2 = seattle_db.pivot_table('OffenseNumber', aggfunc='count',
                            index='incident_year',
                            columns='incident_month')
by_year2
## Crime rate and frequency 
crime_incident = sanfran_db['Category'].value_counts()

#plot the bar chart 
y_pos = np.arange(len(crime_incident[0:14].keys()))
plt.figure(figsize=(10,8))
plt.barh(y_pos, crime_incident[0:14].get_values(),align='center',alpha=0.4,color = 'orange')
plt.yticks(y_axis, map(lambda x: x.title(), crime_incident[0:14].keys()), fontsize= 14)
plt.xlabel('Number of occurences', fontsize = 14)
plt.title('San Franciso Crimes', fontsize =28)
plt.ticklabel_format(style='sci', axis='x', scilimits=(0,0))

print('San Franciso Crimes Table \n')
print('Category\t\tNumber of Occurances')
print(crime_incident)
## Crime by Hours 
import pylab
import numpy as np

pylab.rcParams['figure.figsize'] = (14.0, 8.0)

sanfran_db.set_index(sanfran_db["Date"],inplace=True)

sanfran_db['DayOfWeek'] = sanfran_db.index.dayofweek
sanfran_db['Time'] =pd.to_datetime(sanfran_db['Time'])
sanfran_db['Hour'] = sanfran_db.Time.dt.hour
sanfran_db['Month'] = sanfran_db.index.month
sanfran_db['Year'] = sanfran_db.index.year
sanfran_db['DayOfMonth'] = sanfran_db.index.day

# #choose to plot the top 5 crimes
larceny = sanfran_db[sanfran_db['Category'] == "LARCENY/THEFT"]
assault = sanfran_db[sanfran_db['Category'] == "ASSAULT"]
drug = sanfran_db[sanfran_db['Category'] == "DRUG/NARCOTIC"]
vehicle = sanfran_db[sanfran_db['Category'] == "VEHICLE THEFT"]
vandalism = sanfran_db[sanfran_db['Category'] == "VANDALISM"]
burglary = sanfran_db[sanfran_db['Category'] == "BURGLARY"]

with plt.style.context('fivethirtyeight'):
    ax1 = plt.subplot2grid((3,3), (0,0), colspan=3)
    ax1.plot(sanfran_db.groupby('Hour').size(), 'ro-')
    ax1.set_title ('All crimes')
    start, end = ax1.get_xlim()
    ax1.xaxis.set_ticks(np.arange(start, end, 1))
    
    ax2 = plt.subplot2grid((3,3), (1, 0))
    ax2.plot(larceny.groupby('Hour').size(), 'o-')
    ax2.set_title ('Larceny/Theft')
    
    ax3 = plt.subplot2grid((3,3), (1, 1))
    ax3.plot(assault.groupby('Hour').size(), 'o-')
    ax3.set_title ('Assault')
    
    ax4 = plt.subplot2grid((3,3), (1, 2))
    ax4.plot(drug.groupby('Hour').size(), 'o-')
    ax4.set_title ('Drug/Narcotic')
    
    ax5 = plt.subplot2grid((3,3), (2, 0))
    ax5.plot(vehicle.groupby('Hour').size(), 'o-')
    ax5.set_title ('Vehicle')
    
    ax6 = plt.subplot2grid((3,3), (2, 1))
    ax6.plot(vandalism.groupby('Hour').size(), 'o-')
    ax6.set_title ('Vandalism')
    
    ax7 = plt.subplot2grid((3,3), (2, 2))
    ax7.plot(burglary.groupby('Hour').size(), 'o-')
    ax7.set_title ('Burglary')
  
    pylab.gcf().text(0.5, 1.03, 
                    'San Franciso Crime Occurence by Hour',
                     horizontalalignment='center',
                     verticalalignment='top', 
                     fontsize = 28)
    
plt.tight_layout(2)
# #plt.show()
## Crime by day of week 

pylab.rcParams['figure.figsize'] = (16.0, 12.0)

plt.style.use('ggplot')

daysOfWeekIdx = sanfran_db.groupby('DayOfWeek').size().keys()
daysOfWeekLit = ['Monday', 'Tuesday', 'Wednesday', 'Thursday', 'Friday', 'Saturday', 'Sunday']
occursByWeek = sanfran_db.groupby('DayOfWeek').size().get_values()

# Linear plot for all crimes
ax1 = plt.subplot2grid((3,3), (0,0), colspan=3)
ax1.plot(daysOfWeekIdx, occursByWeek, 'ro-', linewidth=2)
ax1.set_xticklabels(daysOfWeekLit)
ax1.set_title ('All Crimes', fontsize=20)
# ensure that ticks are only at the bottom and left parts of the plot
ax1.get_xaxis().tick_bottom()
ax1.get_yaxis().tick_left()

# Bar plot
y = np.empty([6,7])
h = [None]*6
width = 0.1

ax2 = plt.subplot2grid((3,3), (1,0), colspan=3)

#
y[0] = larceny.groupby('DayOfWeek').size().get_values()
y[1] = assault.groupby('DayOfWeek').size().get_values()
y[2] = drug.groupby('DayOfWeek').size().get_values()
y[3] = vehicle.groupby('DayOfWeek').size().get_values()
#y[4] = vandalism.groupby('DayOfWeek').size().get_values()
#y[5] = burglary.groupby('DayOfWeek').size().get_values()

color_sequence = ['#1f77b4', '#ff7f0e', '#2ca02c','#d62728', '#9467bd', '#8c564b']

for i in range(0,6):
    h[i] = ax2.bar(daysOfWeekIdx + i*width, y[i], width, color=color_sequence[i], alpha = 0.7)

ax2.set_xticks(daysOfWeekIdx + 3*width)
ax2.set_xticklabels(daysOfWeekLit)
# ensure that ticks are only at the bottom and left parts of the plot
ax2.get_xaxis().tick_bottom()
ax2.get_yaxis().tick_left()

ax2.legend((item[0] for item in h), 
           ('Larceny', 'Assault', 'Drug', 'Vehicle', 'Vandalism', 'Burglary'), 
           bbox_to_anchor=(0.88, 1), loc=2, borderaxespad=0., frameon=False)

pylab.gcf().text(0.5, 1.00, 
            'San Franciso Crime Occurence by Day Of Week',
            horizontalalignment='center',
            verticalalignment='top', 
             fontsize = 28)

## Crime by Month 
burglary['Month'].unique()
pylab.rcParams['figure.figsize'] = (16.0, 8.0)

monthsIdx = sanfran_db.groupby('Month').size().keys() - 1
monthsLit = ['June', 'July','August']
occursByMonth = sanfran_db.groupby('Month').size().get_values()

# Linear plot for all crimes
ax1 = plt.subplot2grid((3,3), (0,0), colspan=3)
ax1.plot(monthsIdx, occursByMonth, 'ro-', linewidth=2)
ax1.set_xticklabels(monthsLit)
ax1.set_title ('All Crimes', fontsize=20)
start, end = ax1.get_xlim()
ax1.xaxis.set_ticks(np.arange(start, end, 1))

# ensure that ticks are only at the bottom and left parts of the plot
ax1.get_xaxis().tick_bottom()
ax1.get_yaxis().tick_left()

# Linear normalized plot for 6 top crimes 
ax2 = plt.subplot2grid((3,3), (1,0), colspan=3, rowspan=2)

y = np.empty([6,3])
y[0] = larceny.groupby('Month').size().get_values()
y[1] = assault.groupby('Month').size().get_values()
y[2] = drug.groupby('Month').size().get_values()
y[3] = vehicle.groupby('Month').size().get_values()
y[4] = vandalism.groupby('Month').size().get_values()
#y[5] = burglary.groupby('Month').size().get_values()

crimes = ['Larceny/theft', 'Assault', 'Drug', 'Vehicle', 'Vandalism', 'Burglary']
color_sequence = ['#1f77b4', '#ff7f0e', '#2ca02c','#d62728', '#9467bd', '#8c564b']

for i in range(0,6):
    y[i]= (y[i]-min(y[i]))/(max(y[i])-min(y[i]))  # normalization
    h[i] = ax2.plot(monthsIdx, y[i],'o-', color=color_sequence[i], lw=2)

ax2.set_ylabel("Crime occurences by month, normalized")

ax2.xaxis.set_ticks(np.arange(start, end+1, 1))
ax2.set_xticklabels(monthsLit)

ax2.legend((item[0] for item in h), 
           crimes, 
           bbox_to_anchor=(0.87, 1), loc=2, borderaxespad=0., frameon=False)

pylab.gcf().text(0.5, 1.00, 
            'San Franciso Crime Occurence by Month',
            horizontalalignment='center',
            verticalalignment='top', 
             fontsize = 28)
sanfran_db['Year'].unique()
## Crime by Year 2014
pylab.rcParams['figure.figsize'] = (16.0, 5.0)
yearMonth = sanfran_db.groupby(['Year','Month']).size()
ax = yearMonth.plot(lw=2)
plt.title('San Franciso Crimes Trend by Month&Year', fontsize=24)

# Density Plot 
categories = {c:i for i,c in enumerate(sanfran_db['Category'])}
# Get general distances based on coordinates (not used yet)
sanfran_db['Distance'] = [np.linalg.norm((x,y)) for x,y in zip(sanfran_db.X, sanfran_db.Y)]
# Add numerical category column (not used yet)
sanfran_db['Category_Num'] = [categories[t] for t in sanfran_db.Category]
sanfran_db[:1]
from matplotlib.colors import LogNorm
# Plot 2D histogram of data with constraint
# Default constraint is category, which has 36 unique values (i.e. 12x3)
def plot_data(constraint='Category', rownum=12, colnum=3):
    _, ax = plt.subplots(nrows=rownum, ncols=colnum,figsize=(10,30))
    i = 0
    j = 0
    for cat in sanfran_db[constraint].unique():
        cat_sub = sanfran_db[sanfran_db[constraint] == cat]
        try:
            ax[j][i].hist2d(cat_sub.X, cat_sub.Y, bins=60, norm=LogNorm(), cmap=plt.cm.jet)
            ax[j][i].set_title('{0} {1}'.format(cat, len(cat_sub)))
        except(KeyError, IndexError):
            pass
        i+=1
        if i > colnum-1:
            i = 0
            j+=1
    plt.tight_layout()
    plt.show()
# Density of crime by Category
plot_data()
## Incident Categorization based on this site
http://www.legalmatch.com/law-library/article/what-are-the-different-types-of-crimes.html

map_categories = {
'[INC - CASE DC USE ONLY]': 'OTHER OFFENSES',
'ANIMAL COMPLAINT': 'OTHER OFFENSES',
'ARSON': 'PROPERTY',
'ASSAULT': 'PERSONAL',
'BIAS INCIDENT': 'INCHOATE',
'BIKE THEFT': 'PROPERTY',
'BRIBERY': 'PROPERTY',
'BURGLARY': 'PROPERTY',
'BURGLARY-SECURE PARKING-RES': 'PROPERTY',
'CAR PROWL': 'INCHOATE',
'COUNTERFEIT': 'PROPERTY',
'DISORDERLY CONDUCT': 'INCHOATE',
'DISPUTE': 'INCHOATE',
'DISTURBANCE': 'INCHOATE',
'DRIVING UNDER THE INFLUENCE': 'STATUTORY',
'DRUG/NARCOTIC': 'STATUTORY',
'DRUNKENNESS': 'STATUTORY',
'DUI': 'STATUTORY',
'ELUDING': 'INCHOATE',
'EMBEZZLE': 'PROPERTY',
'EMBEZZLEMENT': 'PROPERTY',
'ESCAPE': 'STATUTORY',
'EXTORTION': 'INCHOATE',
'FALSE REPORT': 'INCHOATE',
'FAMILY OFFENSES': 'INCHOATE',
'FIREWORK': 'PROPERTY',
'FORGERY': 'PROPERTY',
'FORGERY/COUNTERFEITING': 'PROPERTY',
'FRAUD': 'PROPERTY',
'GAMBLING': 'PROPERTY',
'HOMICIDE': 'PERSONAL',
'ILLEGAL DUMPING': 'STATUTORY',
'INJURY': 'PERSONAL',
'KIDNAPPING': 'PERSONAL',
'LARCENY/THEFT': 'PROPERTY',
'LIQUOR LAWS': 'STATUTORY',
'LIQUOR VIOLATION': 'STATUTORY',
'LOITERING': 'INCHOATE',
'LOST PROPERTY': 'PROPERTY',
'MAIL THEFT': 'PROPERTY',
'MISSING PERSON': 'PERSONAL',
'NARCOTICS': 'STATUTORY',
'NON-CRIMINAL': 'NON-CRIMINAL',
'OBSTRUCT': 'PROPERTY',
'OTHER OFFENSES': 'OTHER OFFENSES',
'OTHER PROPERTY': 'PROPERTY',
'PICKPOCKET': 'PROPERTY',
'PORNOGRAPHY': 'INCHOATE',
'PORNOGRAPHY/OBSCENE MAT': 'INCHOATE',
'PROPERTY DAMAGE': 'PROPERTY',
'PROSTITUTION': 'INCHOATE',
'PUBLIC NUISANCE': 'INCHOATE',
'PURSE SNATCH': 'PROPERTY',
'RECKLESS BURNING': 'PROPERTY',
'RECOVERED PROPERTY': 'PROPERTY',
'ROBBERY': 'PROPERTY',
'RUNAWAY': 'INCHOATE',
'SECONDARY CODES': 'STATUTORY',
'SHOPLIFTING': 'PROPERTY',
'STOLEN PROPERTY': 'PROPERTY',
'SUICIDE': 'PERSONAL',
'SUSPICIOUS OCC': 'PROPERTY',
'THEFT OF SERVICES': 'PROPERTY',
'THREATS': 'INCHOATE',
'TRAFFIC': 'STATUTORY',
'TRESPASS': 'INCHOATE',
'VANDALISM': 'PROPERTY',
'VEHICLE THEFT': 'PROPERTY',
'VIOLATION OF COURT ORDER': 'STATUTORY',
'WARRANT ARREST': 'STATUTORY',
'WARRANTS': 'STATUTORY',
'WEAPON': 'STATUTORY',
'WEAPON LAWS': 'STATUTORY'
}

# Map the incident codes to a smaller set
seattle_db['incident_category'] = seattle_db['OffenseDescription'].apply(lambda col: map_categories[col])
sanfran_db['incident_category'] = sanfran_db['Category'].apply(lambda col: map_categories[col])
## Incident trend by category
by_date = seattle_db.pivot_table('OffenseNumber', aggfunc='count',
                            index='incident_date',
                            columns='incident_category' )
ax = by_date.plot(figsize=(12,8))
ax.figure.savefig('seattle_incidents_by_date.png', bbox_inches='tight')
by_weekday = seattle_db.pivot_table('OffenseNumber', aggfunc='count',
                            index='incident_weekday',
                            columns='incident_category')   

ax = by_weekday.plot(figsize=(12,8))
ax.figure.savefig('incidents_by_weekday.png', bbox_inches='tight')
by_hour = seattle_db.pivot_table('OffenseNumber', aggfunc='count',
                            index='incident_hour',
                            columns='incident_category')   
ax = by_hour.plot(figsize=(12,8))
ax.figure.savefig('incidents_by_hour.png', bbox_inches='tight')
by_date = sanfran_db.pivot_table('IncidntNum', aggfunc='count',
                            index='incident_date',
                            columns='incident_category' )
ax = by_date.plot(figsize=(12,8))
ax.figure.savefig('sanfran_incidents_by_date.png', bbox_inches='tight')

